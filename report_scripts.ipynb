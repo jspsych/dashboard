{
 "cells": [
  {
   "cell_type": "code",
   "execution_count": 3,
   "metadata": {},
   "outputs": [
    {
     "ename": "ModuleNotFoundError",
     "evalue": "No module named 'pandas'",
     "output_type": "error",
     "traceback": [
      "\u001b[0;31m---------------------------------------------------------------------------\u001b[0m",
      "\u001b[0;31mModuleNotFoundError\u001b[0m                       Traceback (most recent call last)",
      "Cell \u001b[0;32mIn[3], line 3\u001b[0m\n\u001b[1;32m      1\u001b[0m \u001b[38;5;66;03m#import requests\u001b[39;00m\n\u001b[1;32m      2\u001b[0m \u001b[38;5;28;01mimport\u001b[39;00m\u001b[38;5;250m \u001b[39m\u001b[38;5;21;01mdatetime\u001b[39;00m\n\u001b[0;32m----> 3\u001b[0m \u001b[38;5;28;01mimport\u001b[39;00m\u001b[38;5;250m \u001b[39m\u001b[38;5;21;01mpandas\u001b[39;00m\u001b[38;5;250m \u001b[39m\u001b[38;5;28;01mas\u001b[39;00m\u001b[38;5;250m \u001b[39m\u001b[38;5;21;01mpd\u001b[39;00m\n\u001b[1;32m      4\u001b[0m \u001b[38;5;28;01mimport\u001b[39;00m\u001b[38;5;250m \u001b[39m\u001b[38;5;21;01mnumpy\u001b[39;00m\u001b[38;5;250m \u001b[39m\u001b[38;5;28;01mas\u001b[39;00m\u001b[38;5;250m \u001b[39m\u001b[38;5;21;01mnp\u001b[39;00m\n\u001b[1;32m      5\u001b[0m \u001b[38;5;28;01mimport\u001b[39;00m\u001b[38;5;250m \u001b[39m\u001b[38;5;21;01mmatplotlib\u001b[39;00m\u001b[38;5;21;01m.\u001b[39;00m\u001b[38;5;21;01mpyplot\u001b[39;00m\u001b[38;5;250m \u001b[39m\u001b[38;5;28;01mas\u001b[39;00m\u001b[38;5;250m \u001b[39m\u001b[38;5;21;01mplt\u001b[39;00m\n",
      "\u001b[0;31mModuleNotFoundError\u001b[0m: No module named 'pandas'"
     ]
    }
   ],
   "source": [
    "import requests\n",
    "import datetime\n",
    "import pandas as pd\n",
    "import numpy as np\n",
    "import matplotlib.pyplot as plt"
   ]
  },
  {
   "cell_type": "code",
   "execution_count": null,
   "metadata": {},
   "outputs": [],
   "source": [
    "def fetch_api(endpoint):\n",
    "  url = f\"https://api.github.com/repos/jspsych/jsPsych/{endpoint}\"\n",
    "  final_data=[]\n",
    "  while url:\n",
    "   response = requests.get(url)\n",
    "   data = response.json()\n",
    "   for item in data:\n",
    "     final_data.append(item)\n",
    "   if 'next' in response.links:\n",
    "     url = response.links['next']['url']\n",
    "   else:\n",
    "     break\n",
    "  return final_data"
   ]
  },
  {
   "cell_type": "code",
   "execution_count": null,
   "metadata": {},
   "outputs": [],
   "source": [
    "def create_comm_dataframe():\n",
    "    comm_data = fetch_api(\"issues/comments?per_page=100\")\n",
    "    comments = []\n",
    "    for comment in comm_data:\n",
    "        comment_entry = {\n",
    "            'issue_number': int(comment['issue_url'].split('/')[-1]),\n",
    "            'user': comment['user']['login'],\n",
    "            'created_at': pd.to_datetime(comment['created_at']),\n",
    "            'body': comment['body']\n",
    "        }\n",
    "        comments.append(comment_entry)\n",
    "\n",
    "    return pd.DataFrame(comments)"
   ]
  },
  {
   "cell_type": "code",
   "execution_count": null,
   "metadata": {},
   "outputs": [],
   "source": [
    "def analyze_interaction_times(df, comments_df):\n",
    "  if comments_df.empty:\n",
    "    print(\"Warning: Comments dataframe is empty\")\n",
    "    df['comment_count'] = 0\n",
    "    df['avg_interaction_time'] = None\n",
    "    return df\n",
    "\n",
    "  comments_by_issue = comments_df.groupby('issue_number').agg({\n",
    "    'created_at': list,\n",
    "    'issue_number': 'count'\n",
    "  }).rename(columns={'issue_number': 'comment_count'})\n",
    "\n",
    "  df = df.merge(comments_by_issue, left_on='number', right_index=True, how='left')\n",
    "  df['comment_count'] = df['comment_count'].fillna(0)\n",
    "\n",
    "  if 'created_at_x' not in df.columns and 'created_at_y' not in df.columns:\n",
    "    df = df.rename(columns={'created_at': 'created_at_x'})\n",
    "    if 'created_at' in df.columns:\n",
    "      df['created_at_y'] = df['created_at']\n",
    "\n",
    "  def calculate_interaction_time(row):\n",
    "    if 'created_at_y' not in row or pd.isna(row['created_at_y']) or len(row['created_at_y']) == 0:\n",
    "      return None\n",
    "    dates = [row['created_at_x']] + row['created_at_y']\n",
    "    if row['closed_at'] is not None:\n",
    "      dates.append(row['closed_at'])\n",
    "    dates = [d for d in dates if pd.notna(d)]\n",
    "    dates = sorted(dates)\n",
    "\n",
    "    if len(dates) > 1:\n",
    "      time_diff = np.diff([d.timestamp() for d in dates])\n",
    "      return np.mean(time_diff) if len(time_diff) > 0 else None\n",
    "    return None\n",
    "\n",
    "  df['avg_interaction_time'] = df.apply(calculate_interaction_time, axis=1)\n",
    "\n",
    "  return df"
   ]
  },
  {
   "cell_type": "code",
   "execution_count": null,
   "metadata": {},
   "outputs": [],
   "source": [
    "def quarterly_metrics(df):\n",
    "  return df.groupby(['year', 'quarter']).agg({\n",
    "  'number': 'count',\n",
    "  'avg_interaction_time': 'mean',\n",
    "  'comment_count': ['mean', 'sum']\n",
    "  }).round(2)"
   ]
  },
  {
   "cell_type": "code",
   "execution_count": null,
   "metadata": {},
   "outputs": [],
   "source": [
    "def plot_quarterly_metrics(metrics, target_metric):\n",
    "  plt.figure(figsize=(10, 6))\n",
    "  for year in metrics.index.get_level_values('year').unique():\n",
    "    year_data = metrics.loc[year]\n",
    "    plt.plot(year_data.index, year_data[target_metric],\n",
    "            marker='o', label=f'Year {year}')\n",
    "\n",
    "  plt.xlabel('Quarter')\n",
    "  plt.ylabel(target_metric)\n",
    "  plt.title(f'Quarterly {target_metric} Over Time')\n",
    "  plt.legend()\n",
    "  plt.grid(True)\n",
    "  plt.show()"
   ]
  },
  {
   "cell_type": "code",
   "execution_count": null,
   "metadata": {},
   "outputs": [],
   "source": [
    "def generate_report():\n",
    "  issues_df = create_ent_dataframe('issues')\n",
    "  pulls_df = create_ent_dataframe('pulls')\n",
    "  comments_df = create_comm_dataframe()\n",
    "\n",
    "  issues_analysis = analyze_interaction_times(issues_df, comments_df)\n",
    "  pulls_analysis = analyze_interaction_times(pulls_df, comments_df)\n",
    "\n",
    "  issues_quarterly = quarterly_metrics(issues_analysis)\n",
    "  pulls_quarterly = quarterly_metrics(pulls_analysis)\n",
    "\n",
    "  return issues_analysis, pulls_analysis, issues_quarterly, pulls_quarterly"
   ]
  }
 ],
 "metadata": {
  "kernelspec": {
   "display_name": "Python 3",
   "language": "python",
   "name": "python3"
  },
  "language_info": {
   "codemirror_mode": {
    "name": "ipython",
    "version": 3
   },
   "file_extension": ".py",
   "mimetype": "text/x-python",
   "name": "python",
   "nbconvert_exporter": "python",
   "pygments_lexer": "ipython3",
   "version": "3.9.6"
  }
 },
 "nbformat": 4,
 "nbformat_minor": 2
}
